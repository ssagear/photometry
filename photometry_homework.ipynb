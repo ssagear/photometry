{
 "cells": [
  {
   "cell_type": "markdown",
   "metadata": {},
   "source": [
    "# Photometry Homework"
   ]
  },
  {
   "cell_type": "markdown",
   "metadata": {},
   "source": [
    "Obs Tech - Homework 2\n",
    "21 October 2020\n",
    "Due: Thursday (November 5)\n",
    "\n",
    "\n",
    "The primary goal of this homework is for the student to become familiar with the tools for photometry that will be needed for their class project. "
   ]
  },
  {
   "cell_type": "code",
   "execution_count": 1,
   "metadata": {
    "scrolled": true
   },
   "outputs": [],
   "source": [
    "from astropy.io import fits\n",
    "from glob import glob\n",
    "import numpy as np\n",
    "import matplotlib.pyplot as plt\n",
    "from scipy.optimize import curve_fit"
   ]
  },
  {
   "cell_type": "markdown",
   "metadata": {},
   "source": [
    "## Step 1: Image processing"
   ]
  },
  {
   "cell_type": "code",
   "execution_count": 2,
   "metadata": {},
   "outputs": [],
   "source": [
    "def darks(path):\n",
    "    \"\"\"\n",
    "    Didn't end up using this function\n",
    "    \n",
    "    Parameters\n",
    "    ----------\n",
    "    path: str\n",
    "        path of all dark frames from rho\n",
    "    Returns\n",
    "    -------\n",
    "    darks: np.ndarray\n",
    "        3d array of dark frames\n",
    "    \"\"\"\n",
    "    \n",
    "    darks_filenames = glob(path)\n",
    "    darks = []\n",
    "    darks_filters = []\n",
    "\n",
    "    for i in range(len(darks_filenames[1:])):\n",
    "        darks.append(fits.getdata(darks_filenames[i]))\n",
    "        hdul = fits.open(darks_filenames[i])\n",
    "        darks_filters.append(hdul[0].header['FILTER'])\n",
    "        hdul.close()\n",
    "\n",
    "    darks = np.asarray(darks)\n",
    "    darks = darks.astype(float)"
   ]
  },
  {
   "cell_type": "code",
   "execution_count": 3,
   "metadata": {
    "scrolled": true
   },
   "outputs": [],
   "source": [
    "def get_flats(path):\n",
    "    \"\"\"\n",
    "    Extracts flats from fits files\n",
    "    \n",
    "    Parameters\n",
    "    ----------\n",
    "    path: str\n",
    "        path of all flat frames from rho\n",
    "    Returns\n",
    "    -------\n",
    "    X_flats: np.ndarray\n",
    "        3d array of flat frames in each filter (R, V, B, I)\n",
    "    \"\"\"\n",
    "\n",
    "    flats_filenames = glob(path)\n",
    "    flats = []\n",
    "    flats_filters = []\n",
    "\n",
    "    for i in range(len(flats_filenames[1:])):\n",
    "        flats.append(fits.getdata(flats_filenames[i]))\n",
    "        hdul = fits.open(flats_filenames[i])\n",
    "        flats_filters.append(hdul[0].header['FILTER'])\n",
    "        hdul.close()\n",
    "\n",
    "    flats_filters = np.asarray(flats_filters)\n",
    "    flats = np.asarray(flats)\n",
    "    flats = flats.astype(float)\n",
    "\n",
    "    R_flats = flats[np.where(flats_filters == 'R')]\n",
    "    V_flats = flats[np.where(flats_filters == 'V')]\n",
    "    B_flats = flats[np.where(flats_filters == 'B')]\n",
    "    I_flats = flats[np.where(flats_filters == 'I')]\n",
    "    \n",
    "    return R_flats, V_flats, B_flats, I_flats"
   ]
  },
  {
   "cell_type": "code",
   "execution_count": 4,
   "metadata": {},
   "outputs": [
    {
     "name": "stderr",
     "output_type": "stream",
     "text": [
      "WARNING: non-ASCII characters are present in the FITS file header and have been replaced by \"?\" characters [astropy.io.fits.util]\n"
     ]
    }
   ],
   "source": [
    "_, V_flats, _, _ = get_flats('2020-10-17/h_persei_flats*')"
   ]
  },
  {
   "cell_type": "code",
   "execution_count": 5,
   "metadata": {
    "scrolled": true
   },
   "outputs": [],
   "source": [
    "def seq(path, expt):\n",
    "    \"\"\"\n",
    "    Extracts light frames & darks from fits files\n",
    "    \n",
    "    Parameters\n",
    "    ----------\n",
    "    path: str\n",
    "        Path of all flat frames from rho\n",
    "    expt: float\n",
    "        Exposure time of darks\n",
    "    Returns\n",
    "    -------\n",
    "    X_seq: np.ndarray\n",
    "        3d array of light frames in each filter (R, V, B, I)\n",
    "    seq_darks: np.ndarra\n",
    "        3d array of dark frames\n",
    "    \"\"\"\n",
    "\n",
    "\n",
    "    seq_filenames = np.sort(glob(path))\n",
    "    seq_light = []\n",
    "    seq_darks = []\n",
    "    seq_filters = []\n",
    "\n",
    "    for i in range(len(seq_filenames[1:])):\n",
    "\n",
    "        hdul = fits.open(seq_filenames[i])\n",
    "        if hdul[0].header['FRAME'] == 'Light':\n",
    "            seq_filters.append(hdul[0].header['FILTER'])\n",
    "            seq_light.append(fits.getdata(seq_filenames[i]))\n",
    "        else:\n",
    "            seq_darks.append(fits.getdata(seq_filenames[i]))\n",
    "        hdul.close()\n",
    "\n",
    "    seq_filters = np.asarray(seq_filters)\n",
    "    seq_light = np.asarray(seq_light)\n",
    "    seq_light = seq_light.astype(float)\n",
    "\n",
    "\n",
    "    R_seq = seq_light[np.where(seq_filters == 'R')]\n",
    "    V_seq = seq_light[np.where(seq_filters == 'V')]\n",
    "    B_seq = seq_light[np.where(seq_filters == 'B')]\n",
    "    I_seq = seq_light[np.where(seq_filters == 'I')]\n",
    "    \n",
    "    return R_seq, V_seq, B_seq, I_seq, seq_darks"
   ]
  },
  {
   "cell_type": "code",
   "execution_count": 6,
   "metadata": {},
   "outputs": [],
   "source": [
    "R_seq, V_seq, B_seq, I_seq, seq_dark = seq('2020-10-17/h_persei_seq*', 5.0)"
   ]
  },
  {
   "cell_type": "markdown",
   "metadata": {},
   "source": [
    "### Step 2: Master Dark:"
   ]
  },
  {
   "cell_type": "code",
   "execution_count": 7,
   "metadata": {
    "scrolled": true
   },
   "outputs": [],
   "source": [
    "master_V_dark = np.median(seq_dark, axis=0)"
   ]
  },
  {
   "cell_type": "markdown",
   "metadata": {},
   "source": [
    "### Step 3: Master Flat:"
   ]
  },
  {
   "cell_type": "code",
   "execution_count": 8,
   "metadata": {
    "scrolled": true
   },
   "outputs": [],
   "source": [
    "comb_V_flat = np.median(V_flats,axis=0) - master_V_dark\n",
    "div = master_V_dark/np.median(comb_V_flat)\n",
    "master_V_flat = comb_V_flat - div"
   ]
  },
  {
   "cell_type": "markdown",
   "metadata": {},
   "source": [
    "### Step 4, 5: Subtract dark and divide by flat for each science frame"
   ]
  },
  {
   "cell_type": "code",
   "execution_count": 9,
   "metadata": {
    "scrolled": true
   },
   "outputs": [],
   "source": [
    "V_proc = []\n",
    "\n",
    "for i in range(len(V_seq)):\n",
    "    V_proc_temp = V_seq[i] - master_V_dark\n",
    "    V_proc.append(V_proc_temp/master_V_flat)"
   ]
  },
  {
   "cell_type": "markdown",
   "metadata": {},
   "source": [
    "### Step 6: Shifting frames with np.roll"
   ]
  },
  {
   "cell_type": "code",
   "execution_count": 24,
   "metadata": {},
   "outputs": [],
   "source": [
    "shifts = [[0,4], [0,7], [0,7], [-1,8], [-2,7], [-3,5], [-6,3], [-8,2], [-10,-1]]\n",
    "\n"
   ]
  },
  {
   "cell_type": "code",
   "execution_count": 40,
   "metadata": {},
   "outputs": [],
   "source": [
    "def shiftroll(shifts, frames):\n",
    "    \"\"\"\n",
    "    Shifts off-center frames, median-combines, and flips along y-axis\n",
    "    \n",
    "    Parameters\n",
    "    ----------\n",
    "    shifts: list\n",
    "        list of [x,y] shifts\n",
    "    frames: np.ndarray\n",
    "        3d array of processed science images\n",
    "    Returns\n",
    "    -------\n",
    "    rolledframes: np.ndarray\n",
    "        Final median-combined image\n",
    "    \"\"\"\n",
    "    rolledframes = []\n",
    "    rolledframes.append(V_seq[0])\n",
    "    for i in range(1, len(frames)):\n",
    "        rolledframes.append(np.roll(frames[i], shifts[i-1], axis=(0,1)))\n",
    "    \n",
    "    rolledframes = np.asarray(rolledframes)\n",
    "    rolledframes = np.median(rolledframes, axis=0)\n",
    "    \n",
    "    #flip to match DS9 orientation\n",
    "    rolledframes = np.flip(rolledframes, 0)\n",
    "    \n",
    "    return rolledframes"
   ]
  },
  {
   "cell_type": "code",
   "execution_count": 41,
   "metadata": {},
   "outputs": [],
   "source": [
    "V = shiftroll(shifts, V_proc)"
   ]
  },
  {
   "cell_type": "markdown",
   "metadata": {},
   "source": [
    "## Aperture Photometry"
   ]
  },
  {
   "cell_type": "code",
   "execution_count": 43,
   "metadata": {
    "scrolled": true
   },
   "outputs": [],
   "source": [
    "from astropy.modeling import models, fitting"
   ]
  },
  {
   "cell_type": "code",
   "execution_count": 44,
   "metadata": {
    "scrolled": true
   },
   "outputs": [],
   "source": [
    "def cutout(image, bb, center):\n",
    "    \"\"\"\n",
    "    Cuts out smaller frame around star\n",
    "    \n",
    "    Parameters\n",
    "    ----------\n",
    "    image: np.ndarray\n",
    "        Whole image\n",
    "    bb: int\n",
    "        Cut out a box of side size 2*bb\n",
    "    center: [x,y]\n",
    "        Center of star in whole image [x,y]\n",
    "    \n",
    "    Returns\n",
    "    -------\n",
    "    xp, yp: ints\n",
    "        Grids of box size\n",
    "    box: np.ndarray\n",
    "        Cutout image\n",
    "    \"\"\"\n",
    "    xc = int(center[0])\n",
    "    yc = int(center[1])\n",
    "    box = image[yc-bb:yc+bb, xc-bb:xc+bb]\n",
    "    xp, yp = box.shape\n",
    "    return xp, yp, box"
   ]
  },
  {
   "cell_type": "code",
   "execution_count": 45,
   "metadata": {
    "scrolled": true
   },
   "outputs": [],
   "source": [
    "def gaussian(yp, xp, box):\n",
    "    \"\"\" Fits a 2d Gaussian to star\n",
    "    \"\"\"\n",
    "    y, x, = np.mgrid[:yp, :xp]\n",
    "    f_init = models.Gaussian2D()\n",
    "    fit_f = fitting.LevMarLSQFitter()\n",
    "    fV = fit_f(f_init, x, y, box)\n",
    "    \n",
    "    return fV, x, y"
   ]
  },
  {
   "cell_type": "code",
   "execution_count": 46,
   "metadata": {
    "scrolled": true
   },
   "outputs": [],
   "source": [
    "def sigma_avg(x,y):\n",
    "    \"\"\" Averages sigmas\n",
    "    \"\"\"\n",
    "    return np.mean([float(x), float(y)])"
   ]
  },
  {
   "cell_type": "code",
   "execution_count": 47,
   "metadata": {
    "scrolled": true
   },
   "outputs": [],
   "source": [
    "def px_to_arcsec(fwhm):\n",
    "    return fwhm*0.605"
   ]
  },
  {
   "cell_type": "markdown",
   "metadata": {},
   "source": [
    "Star 1: HD 14052\n",
    "\n",
    "(2.307778, 57.20833)\n",
    "http://simbad.u-strasbg.fr/simbad/sim-basic?Ident=tyc+3694-3626-1&submit=SIMBAD+search\n",
    "    \n",
    "Star 2: BD+56 511\n",
    "\n",
    "(2.313056, 57.06722)\n",
    "http://simbad.u-strasbg.fr/simbad/sim-basic?Ident=tyc+3694-2565-1&submit=SIMBAD+search"
   ]
  },
  {
   "cell_type": "code",
   "execution_count": 48,
   "metadata": {},
   "outputs": [],
   "source": [
    "def psf(image, targ_loc, boxsize, expt, aper, aper_inside, aper_outside, plot='star'):\n",
    "    \"\"\"\n",
    "    Star psf\n",
    "    \n",
    "    Parameters\n",
    "    ----------\n",
    "    image: np.ndarray\n",
    "        Entire image\n",
    "    targ_loc: [x,y]\n",
    "        Coordinates of target\n",
    "    boxsize: int\n",
    "        1/2 box side length for image cutout around target star\n",
    "    expt: float\n",
    "        Exposure time\n",
    "    aper: float\n",
    "        Aperture size (units of FWHM)\n",
    "    aper_inside: float\n",
    "        Inner aperture size (units of FWHM)\n",
    "    aper_outside: float\n",
    "        Outside aperture size (units of FWHM)\n",
    "    plot: 'star', 'gaussian', 'cutout'\n",
    "        Plot keyword\n",
    "    \n",
    "    Returns\n",
    "    -------\n",
    "    F_targ: float\n",
    "        Flux in PSF of target\n",
    "    F_targ_persec: float\n",
    "        Flux in PSF of target per second of exposure\n",
    "    \"\"\"\n",
    "    F_sky_pix = []\n",
    "    \n",
    "    targ_loc[1] = 1266-targ_loc[1]\n",
    "    \n",
    "    xp, yp, current_image = cutout(image, boxsize, targ_loc)\n",
    "    \n",
    "    fV, x, y = gaussian(xp, yp, current_image)\n",
    "    \n",
    "    #plt.xlabel('x pixels')\n",
    "    #plt.ylabel('y pixels')\n",
    "    \n",
    "    if plot=='star':\n",
    "        plt.imshow(current_image)\n",
    "        plt.show()\n",
    "    elif plot =='gaussian':\n",
    "        plt.imshow(fV(x,y))\n",
    "        plt.show()\n",
    "    \n",
    "    sigma = sigma_avg(fV.x_stddev[0],fV.y_stddev[0])\n",
    "    #xbar = fV.x_mean[0]\n",
    "    fwhm = 2.355*float(sigma)\n",
    "    fit = fV(x, y)\n",
    "    \n",
    "    center = np.where(fit == np.max(fit))\n",
    " \n",
    "    circ_image = np.zeros(current_image.shape)\n",
    "    N_targ = 0\n",
    "    for i in range(len(current_image)):\n",
    "        for j in range(len(current_image[0])):\n",
    "            dist = np.sqrt((center[0]-i)**2+(center[1]-j)**2)\n",
    "            if dist >= aper_inside*fwhm and dist <= aper_outside*fwhm:\n",
    "                F_sky_pix.append(current_image[i][j])  \n",
    "            if (dist > aper*fwhm):\n",
    "                circ_image[i][j] = 0.0\n",
    "            else:\n",
    "                circ_image[i][j] = current_image[i][j]\n",
    "                N_targ+=1\n",
    "\n",
    "    F_sky_pix_med = np.median(F_sky_pix)\n",
    "    F_targ_raw = 0\n",
    "    F_targ_raw = np.sum(circ_image)\n",
    "      \n",
    "    if plot=='cutout':\n",
    "        plt.imshow(circ_image)\n",
    "        plt.show()\n",
    "    \n",
    "    F_targ = F_targ_raw - N_targ*F_sky_pix_med\n",
    "    F_targ_persec = F_targ/expt\n",
    "                        \n",
    "    return F_targ_persec"
   ]
  },
  {
   "cell_type": "code",
   "execution_count": 49,
   "metadata": {
    "scrolled": true
   },
   "outputs": [],
   "source": [
    "tnames = ['2-3694-3626-1', '2-3694-2565-1', '2-3694-2943-1', '2-3694-1712-1', '2-3694-3750-1', '2-3694-3451-1', '2-3694-1822-1', '2-3694-1719-1',  '2-3694-1853-1', '2-3694-1363-1']\n",
    "targlocs = [[440, 134], [382,1013], [529, 634], [892, 1139], [194, 272], [329,956], [1150, 146], [1032, 812], [1463, 134], [1485, 1077]]\n",
    "boxsizes = [25, 35, 45, 30, 36, 40, 40, 27, 20, 56] "
   ]
  },
  {
   "cell_type": "code",
   "execution_count": 53,
   "metadata": {},
   "outputs": [],
   "source": [
    "def get_flux_per_s(image, targlocs, boxsizes, aper, aper_in, aper_out, plot=None):\n",
    "    \n",
    "    tnames = ['2-3694-3626-1', '2-3694-2565-1', '2-3694-2943-1', '2-3694-1712-1', '2-3694-3750-1', '2-3694-3451-1', '2-3694-1822-1', '2-3694-1719-1',  '2-3694-1853-1', '2-3694-1363-1']\n",
    "    targlocs = [[440, 134], [382,1013], [529, 634], [892, 1139], [194, 272], [329,956], [1150, 146], [1032, 812], [1463, 134], [1485, 1077]]\n",
    "    boxsizes = [25, 35, 45, 30, 36, 40, 40, 27, 20, 56]\n",
    "    \n",
    "    Flux_per_s = [0, 0, 0, 0, 0, 0, 0, 0, 0, 0]\n",
    "    \n",
    "    for i in range(len(targlocs)):\n",
    "        F_targ_pers = psf(image, targlocs[i], boxsizes[i], 5.0, aper, aper_in, aper_out, plot)\n",
    "        Flux_per_s[i] = F_targ_pers\n",
    "    return Flux_per_s"
   ]
  },
  {
   "cell_type": "code",
   "execution_count": 61,
   "metadata": {
    "scrolled": false
   },
   "outputs": [],
   "source": [
    "Flux_per_s = get_flux_per_s(V, targlocs, boxsizes, 1.3, 2., 3., plot=None)\n"
   ]
  },
  {
   "cell_type": "markdown",
   "metadata": {},
   "source": [
    "### Zeropoint magnitude"
   ]
  },
  {
   "cell_type": "code",
   "execution_count": 62,
   "metadata": {},
   "outputs": [],
   "source": [
    "cat = [7.7866, 8.2215, 8.3765, 10.17, 10.219, 10.6020, 11.1, 8.4634, 9.3223, 11.320]"
   ]
  },
  {
   "cell_type": "code",
   "execution_count": 63,
   "metadata": {},
   "outputs": [],
   "source": [
    "def m_i(flux):\n",
    "    return -2.5*np.log10(flux)\n",
    "\n",
    "def dm_std(m_cat_std, flux_std):\n",
    "    dm = m_cat_std - m_i(flux_std)\n",
    "    return dm\n",
    "\n",
    "def m_obs(dm, flux_targ):\n",
    "    m_obs = m_i(flux_targ) + dm\n",
    "    return m_obs\n",
    "\n",
    "def mag_diffs(Flux_per_s, cat_mags):\n",
    "    dm = dm_std(cat, Flux_per_s)\n",
    "    dm = np.mean(dm)\n",
    "    obs_mag = m_obs(dm, Flux_per_s)\n",
    "    mag_diff = cat - obs_mag\n",
    "    return mag_diff, obs_mag"
   ]
  },
  {
   "cell_type": "markdown",
   "metadata": {},
   "source": [
    "# Simbad - calibrated magnitude for four configurations\n",
    "The three inputs are: inner apperature, sky 'donut' inner radius and outter radius. \\\n",
    "The calibration process happens for every star (dm is calculated for each star) and then the average dm is taken. This is then used to calibrate observed fluxes and compare them\n",
    "to simbad magnitudes."
   ]
  },
  {
   "cell_type": "code",
   "execution_count": 64,
   "metadata": {},
   "outputs": [],
   "source": [
    "tnames = ['2-3694-3626-1', '2-3694-2565-1', '2-3694-2943-1', '2-3694-1712-1', '2-3694-3750-1', '2-3694-3451-1', '2-3694-1822-1', '2-3694-1719-1',  '2-3694-1853-1', '2-3694-1363-1']\n",
    "targlocs = [[440, 134], [382,1013], [529, 634], [892, 1139], [194, 272], [329,956], [1150, 146], [1032, 812], [1463, 134], [1485, 1077]]\n",
    "boxsizes = [25, 35, 45, 30, 36, 40, 40, 27, 20, 56]"
   ]
  },
  {
   "cell_type": "code",
   "execution_count": 65,
   "metadata": {},
   "outputs": [],
   "source": [
    "for i in range(10):\n",
    "    psf(V, targlocs[i], boxsizes[i], 5.0, 1.3, 2., 3., plot=None)\n",
    "    "
   ]
  },
  {
   "cell_type": "code",
   "execution_count": 66,
   "metadata": {},
   "outputs": [
    {
     "data": {
      "text/plain": [
       "(array([-0.1420963 , -0.69694104, -0.78505123,  0.85820118,  0.39024291,\n",
       "         0.30116784,  0.79194049, -0.690147  , -0.30504157,  0.27772473]),\n",
       " array([ 7.9286963 ,  8.91844104,  9.16155123,  9.31179882,  9.82875709,\n",
       "        10.30083216, 10.30805951,  9.153547  ,  9.62734157, 11.04227527]))"
      ]
     },
     "execution_count": 66,
     "metadata": {},
     "output_type": "execute_result"
    }
   ],
   "source": [
    "Flux_per_s = get_flux_per_s(V, targlocs, boxsizes, 1.3, 2., 3., plot=None)\n",
    "mag_diffs(Flux_per_s, cat)"
   ]
  },
  {
   "cell_type": "code",
   "execution_count": 67,
   "metadata": {},
   "outputs": [
    {
     "data": {
      "text/plain": [
       "(array([-0.18966458, -0.66495173, -0.78578795,  0.89228773,  0.42877572,\n",
       "         0.33109339,  0.80423963, -0.70869269, -0.36204384,  0.25474433]),\n",
       " array([ 7.97626458,  8.88645173,  9.16228795,  9.27771227,  9.79022428,\n",
       "        10.27090661, 10.29576037,  9.17209269,  9.68434384, 11.06525567]))"
      ]
     },
     "execution_count": 67,
     "metadata": {},
     "output_type": "execute_result"
    }
   ],
   "source": [
    "mag_diffs(get_flux_per_s(V, targlocs, boxsizes, 0.5, 2., 3., plot=None), cat)"
   ]
  },
  {
   "cell_type": "code",
   "execution_count": 68,
   "metadata": {},
   "outputs": [
    {
     "data": {
      "text/plain": [
       "(array([-0.14069752, -0.70048745, -0.77804794,  0.85286101,  0.38676549,\n",
       "         0.29955205,  0.80207043, -0.68584414, -0.31702419,  0.28085225]),\n",
       " array([ 7.92729752,  8.92198745,  9.15454794,  9.31713899,  9.83223451,\n",
       "        10.30244795, 10.29792957,  9.14924414,  9.63932419, 11.03914775]))"
      ]
     },
     "execution_count": 68,
     "metadata": {},
     "output_type": "execute_result"
    }
   ],
   "source": [
    "mag_diffs(get_flux_per_s(V, targlocs, boxsizes, 2., 2., 3., plot=None), cat)"
   ]
  },
  {
   "cell_type": "code",
   "execution_count": 69,
   "metadata": {},
   "outputs": [
    {
     "data": {
      "text/plain": [
       "(array([-0.1401819 , -0.69634767, -0.78414744,  0.85831279,  0.39009491,\n",
       "         0.30023319,  0.79088697, -0.68895719, -0.30612013,  0.27622647]),\n",
       " array([ 7.9267819 ,  8.91784767,  9.16064744,  9.31168721,  9.82890509,\n",
       "        10.30176681, 10.30911303,  9.15235719,  9.62842013, 11.04377353]))"
      ]
     },
     "execution_count": 69,
     "metadata": {},
     "output_type": "execute_result"
    }
   ],
   "source": [
    "mag_diffs(get_flux_per_s(V, targlocs, boxsizes, 1.3, 1.5, 3., plot=None), cat)\n"
   ]
  },
  {
   "cell_type": "code",
   "execution_count": null,
   "metadata": {},
   "outputs": [],
   "source": []
  },
  {
   "cell_type": "code",
   "execution_count": null,
   "metadata": {},
   "outputs": [],
   "source": []
  }
 ],
 "metadata": {
  "kernelspec": {
   "display_name": "Python 3",
   "language": "python",
   "name": "python3"
  },
  "language_info": {
   "codemirror_mode": {
    "name": "ipython",
    "version": 3
   },
   "file_extension": ".py",
   "mimetype": "text/x-python",
   "name": "python",
   "nbconvert_exporter": "python",
   "pygments_lexer": "ipython3",
   "version": "3.7.6"
  }
 },
 "nbformat": 4,
 "nbformat_minor": 4
}
